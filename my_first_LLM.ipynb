{
  "nbformat": 4,
  "nbformat_minor": 0,
  "metadata": {
    "colab": {
      "provenance": [],
      "toc_visible": true,
      "include_colab_link": true
    },
    "kernelspec": {
      "name": "python3",
      "display_name": "Python 3"
    },
    "language_info": {
      "name": "python"
    }
  },
  "cells": [
    {
      "cell_type": "markdown",
      "metadata": {
        "id": "view-in-github",
        "colab_type": "text"
      },
      "source": [
        "<a href=\"https://colab.research.google.com/github/saadmughlii/LLM_practice/blob/main/my_first_LLM.ipynb\" target=\"_parent\"><img src=\"https://colab.research.google.com/assets/colab-badge.svg\" alt=\"Open In Colab\"/></a>"
      ]
    },
    {
      "cell_type": "markdown",
      "source": [
        "# Tokenization of data fetched from Wikipedia repository"
      ],
      "metadata": {
        "id": "qCKYUNzpb6Le"
      }
    },
    {
      "cell_type": "markdown",
      "source": [
        "This is my first attempt at creating a simple LLM which will know about some wikipedia articles. The dataset will be derived from wikipedia website using datasets library.\n",
        "\n",
        "First we will install the dependencies required for this project"
      ],
      "metadata": {
        "id": "NjjwOdFQIcMt"
      }
    },
    {
      "cell_type": "code",
      "execution_count": 16,
      "metadata": {
        "colab": {
          "base_uri": "https://localhost:8080/"
        },
        "collapsed": true,
        "id": "fn8IIPscIZox",
        "outputId": "a66ef4b4-55a7-4a96-a7b7-1e65a3f0ee31"
      },
      "outputs": [
        {
          "output_type": "stream",
          "name": "stdout",
          "text": [
            "Found existing installation: torch 2.5.1+cu124\n",
            "Uninstalling torch-2.5.1+cu124:\n",
            "  Would remove:\n",
            "    /usr/local/bin/convert-caffe2-to-onnx\n",
            "    /usr/local/bin/convert-onnx-to-caffe2\n",
            "    /usr/local/bin/torchfrtrace\n",
            "    /usr/local/bin/torchrun\n",
            "    /usr/local/lib/python3.11/dist-packages/functorch/*\n",
            "    /usr/local/lib/python3.11/dist-packages/torch-2.5.1+cu124.dist-info/*\n",
            "    /usr/local/lib/python3.11/dist-packages/torch/*\n",
            "    /usr/local/lib/python3.11/dist-packages/torchgen/*\n",
            "Proceed (Y/n)? y\n",
            "y\n",
            "\u001b[31mERROR: Operation cancelled by user\u001b[0m\u001b[31m\n",
            "\u001b[0m"
          ]
        }
      ],
      "source": [
        "!pip install torch transformers datasets accelerate wikipedia-api\n"
      ]
    },
    {
      "cell_type": "code",
      "source": [],
      "metadata": {
        "id": "lhGLoVCULKSP"
      },
      "execution_count": 13,
      "outputs": []
    },
    {
      "cell_type": "markdown",
      "source": [
        "We will then import the libraries\n",
        "1. Wikipedia API provides the dataset from the Wikipedia website, it allows data to be fetched from their database in a selected language.\n",
        "2. Autotokenizer: A hugging face module that loads tokenizers for NLP models like GPT-2, BERT etc.\n",
        "\n",
        "FYI: A tokenizer is a function which converts input data into a set of sequences which the LLM can use to predict closely related words. For example, The words \"HI\" and \"how\" are placed \"close\" to each other so it is easier for the LLM to predict the next word."
      ],
      "metadata": {
        "id": "rvNBRyh1IagU"
      }
    },
    {
      "cell_type": "code",
      "source": [
        "import torch\n",
        "from datasets import Dataset\n",
        "\n",
        "import wikipediaapi\n",
        "from transformers import AutoTokenizer, AutoModelForCausalLM, TrainingArguments, Trainer\n"
      ],
      "metadata": {
        "id": "r4qG2DT6JOP8",
        "colab": {
          "base_uri": "https://localhost:8080/",
          "height": 356
        },
        "outputId": "4320f09a-fc52-4be9-ff03-45ee1bbea325"
      },
      "execution_count": 14,
      "outputs": [
        {
          "output_type": "error",
          "ename": "AttributeError",
          "evalue": "partially initialized module 'torch' has no attribute 'fx' (most likely due to a circular import)",
          "traceback": [
            "\u001b[0;31m---------------------------------------------------------------------------\u001b[0m",
            "\u001b[0;31mAttributeError\u001b[0m                            Traceback (most recent call last)",
            "\u001b[0;32m<ipython-input-14-72616d7af667>\u001b[0m in \u001b[0;36m<cell line: 0>\u001b[0;34m()\u001b[0m\n\u001b[0;32m----> 1\u001b[0;31m \u001b[0;32mimport\u001b[0m \u001b[0mtorch\u001b[0m\u001b[0;34m\u001b[0m\u001b[0;34m\u001b[0m\u001b[0m\n\u001b[0m\u001b[1;32m      2\u001b[0m \u001b[0;32mfrom\u001b[0m \u001b[0mdatasets\u001b[0m \u001b[0;32mimport\u001b[0m \u001b[0mDataset\u001b[0m\u001b[0;34m\u001b[0m\u001b[0;34m\u001b[0m\u001b[0m\n\u001b[1;32m      3\u001b[0m \u001b[0;34m\u001b[0m\u001b[0m\n\u001b[1;32m      4\u001b[0m \u001b[0;32mimport\u001b[0m \u001b[0mwikipediaapi\u001b[0m\u001b[0;34m\u001b[0m\u001b[0;34m\u001b[0m\u001b[0m\n\u001b[1;32m      5\u001b[0m \u001b[0;32mfrom\u001b[0m \u001b[0mtransformers\u001b[0m \u001b[0;32mimport\u001b[0m \u001b[0mAutoTokenizer\u001b[0m\u001b[0;34m,\u001b[0m \u001b[0mAutoModelForCausalLM\u001b[0m\u001b[0;34m,\u001b[0m \u001b[0mTrainingArguments\u001b[0m\u001b[0;34m,\u001b[0m \u001b[0mTrainer\u001b[0m\u001b[0;34m\u001b[0m\u001b[0;34m\u001b[0m\u001b[0m\n",
            "\u001b[0;32m/usr/local/lib/python3.11/dist-packages/torch/__init__.py\u001b[0m in \u001b[0;36m<module>\u001b[0;34m\u001b[0m\n\u001b[1;32m   2473\u001b[0m \u001b[0;34m\u001b[0m\u001b[0m\n\u001b[1;32m   2474\u001b[0m \u001b[0;34m\u001b[0m\u001b[0m\n\u001b[0;32m-> 2475\u001b[0;31m from torch import (\n\u001b[0m\u001b[1;32m   2476\u001b[0m     \u001b[0mexport\u001b[0m \u001b[0;32mas\u001b[0m \u001b[0mexport\u001b[0m\u001b[0;34m,\u001b[0m\u001b[0;34m\u001b[0m\u001b[0;34m\u001b[0m\u001b[0m\n\u001b[1;32m   2477\u001b[0m     \u001b[0mfunc\u001b[0m \u001b[0;32mas\u001b[0m \u001b[0mfunc\u001b[0m\u001b[0;34m,\u001b[0m\u001b[0;34m\u001b[0m\u001b[0;34m\u001b[0m\u001b[0m\n",
            "\u001b[0;32m/usr/local/lib/python3.11/dist-packages/torch/export/__init__.py\u001b[0m in \u001b[0;36m<module>\u001b[0;34m\u001b[0m\n\u001b[1;32m     26\u001b[0m \u001b[0;32mimport\u001b[0m \u001b[0mtorch\u001b[0m\u001b[0;34m.\u001b[0m\u001b[0mutils\u001b[0m\u001b[0;34m.\u001b[0m\u001b[0m_pytree\u001b[0m \u001b[0;32mas\u001b[0m \u001b[0mpytree\u001b[0m\u001b[0;34m\u001b[0m\u001b[0;34m\u001b[0m\u001b[0m\n\u001b[1;32m     27\u001b[0m \u001b[0;32mfrom\u001b[0m \u001b[0mtorch\u001b[0m\u001b[0;34m.\u001b[0m\u001b[0mfx\u001b[0m\u001b[0;34m.\u001b[0m\u001b[0m_compatibility\u001b[0m \u001b[0;32mimport\u001b[0m \u001b[0mcompatibility\u001b[0m\u001b[0;34m\u001b[0m\u001b[0;34m\u001b[0m\u001b[0m\n\u001b[0;32m---> 28\u001b[0;31m \u001b[0;32mfrom\u001b[0m \u001b[0mtorch\u001b[0m\u001b[0;34m.\u001b[0m\u001b[0mfx\u001b[0m\u001b[0;34m.\u001b[0m\u001b[0mpasses\u001b[0m\u001b[0;34m.\u001b[0m\u001b[0minfra\u001b[0m\u001b[0;34m.\u001b[0m\u001b[0mpass_base\u001b[0m \u001b[0;32mimport\u001b[0m \u001b[0mPassResult\u001b[0m\u001b[0;34m\u001b[0m\u001b[0;34m\u001b[0m\u001b[0m\n\u001b[0m\u001b[1;32m     29\u001b[0m \u001b[0;32mfrom\u001b[0m \u001b[0mtorch\u001b[0m\u001b[0;34m.\u001b[0m\u001b[0mfx\u001b[0m\u001b[0;34m.\u001b[0m\u001b[0mpasses\u001b[0m\u001b[0;34m.\u001b[0m\u001b[0minfra\u001b[0m\u001b[0;34m.\u001b[0m\u001b[0mpass_manager\u001b[0m \u001b[0;32mimport\u001b[0m \u001b[0mPassManager\u001b[0m\u001b[0;34m\u001b[0m\u001b[0;34m\u001b[0m\u001b[0m\n\u001b[1;32m     30\u001b[0m from torch.utils._pytree import (\n",
            "\u001b[0;32m/usr/local/lib/python3.11/dist-packages/torch/fx/passes/__init__.py\u001b[0m in \u001b[0;36m<module>\u001b[0;34m\u001b[0m\n\u001b[0;32m----> 1\u001b[0;31m \u001b[0;32mfrom\u001b[0m \u001b[0;34m.\u001b[0m \u001b[0;32mimport\u001b[0m \u001b[0mgraph_drawer\u001b[0m\u001b[0;34m\u001b[0m\u001b[0;34m\u001b[0m\u001b[0m\n\u001b[0m\u001b[1;32m      2\u001b[0m \u001b[0;32mfrom\u001b[0m \u001b[0;34m.\u001b[0m \u001b[0;32mimport\u001b[0m \u001b[0mgraph_manipulation\u001b[0m\u001b[0;34m\u001b[0m\u001b[0;34m\u001b[0m\u001b[0m\n\u001b[1;32m      3\u001b[0m \u001b[0;32mfrom\u001b[0m \u001b[0;34m.\u001b[0m \u001b[0;32mimport\u001b[0m \u001b[0mnet_min_base\u001b[0m\u001b[0;34m\u001b[0m\u001b[0;34m\u001b[0m\u001b[0m\n\u001b[1;32m      4\u001b[0m \u001b[0;32mfrom\u001b[0m \u001b[0;34m.\u001b[0m \u001b[0;32mimport\u001b[0m \u001b[0moperator_support\u001b[0m\u001b[0;34m\u001b[0m\u001b[0;34m\u001b[0m\u001b[0m\n\u001b[1;32m      5\u001b[0m \u001b[0;32mfrom\u001b[0m \u001b[0;34m.\u001b[0m \u001b[0;32mimport\u001b[0m \u001b[0mparam_fetch\u001b[0m\u001b[0;34m\u001b[0m\u001b[0;34m\u001b[0m\u001b[0m\n",
            "\u001b[0;32m/usr/local/lib/python3.11/dist-packages/torch/fx/passes/graph_drawer.py\u001b[0m in \u001b[0;36m<module>\u001b[0;34m\u001b[0m\n\u001b[1;32m     11\u001b[0m \u001b[0;32mfrom\u001b[0m \u001b[0mtorch\u001b[0m\u001b[0;34m.\u001b[0m\u001b[0mfx\u001b[0m\u001b[0;34m.\u001b[0m\u001b[0mnode\u001b[0m \u001b[0;32mimport\u001b[0m \u001b[0m_format_arg\u001b[0m\u001b[0;34m,\u001b[0m \u001b[0m_get_qualified_name\u001b[0m\u001b[0;34m\u001b[0m\u001b[0;34m\u001b[0m\u001b[0m\n\u001b[1;32m     12\u001b[0m \u001b[0;32mfrom\u001b[0m \u001b[0mtorch\u001b[0m\u001b[0;34m.\u001b[0m\u001b[0mfx\u001b[0m\u001b[0;34m.\u001b[0m\u001b[0moperator_schemas\u001b[0m \u001b[0;32mimport\u001b[0m \u001b[0mnormalize_function\u001b[0m\u001b[0;34m\u001b[0m\u001b[0;34m\u001b[0m\u001b[0m\n\u001b[0;32m---> 13\u001b[0;31m \u001b[0;32mfrom\u001b[0m \u001b[0mtorch\u001b[0m\u001b[0;34m.\u001b[0m\u001b[0mfx\u001b[0m\u001b[0;34m.\u001b[0m\u001b[0mpasses\u001b[0m\u001b[0;34m.\u001b[0m\u001b[0mshape_prop\u001b[0m \u001b[0;32mimport\u001b[0m \u001b[0mTensorMetadata\u001b[0m\u001b[0;34m\u001b[0m\u001b[0;34m\u001b[0m\u001b[0m\n\u001b[0m\u001b[1;32m     14\u001b[0m \u001b[0;34m\u001b[0m\u001b[0m\n\u001b[1;32m     15\u001b[0m \u001b[0;34m\u001b[0m\u001b[0m\n",
            "\u001b[0;32m/usr/local/lib/python3.11/dist-packages/torch/fx/passes/shape_prop.py\u001b[0m in \u001b[0;36m<module>\u001b[0;34m\u001b[0m\n\u001b[1;32m     72\u001b[0m \u001b[0;34m\u001b[0m\u001b[0m\n\u001b[1;32m     73\u001b[0m \u001b[0;34m@\u001b[0m\u001b[0mcompatibility\u001b[0m\u001b[0;34m(\u001b[0m\u001b[0mis_backward_compatible\u001b[0m\u001b[0;34m=\u001b[0m\u001b[0;32mTrue\u001b[0m\u001b[0;34m)\u001b[0m\u001b[0;34m\u001b[0m\u001b[0;34m\u001b[0m\u001b[0m\n\u001b[0;32m---> 74\u001b[0;31m \u001b[0;32mclass\u001b[0m \u001b[0mShapeProp\u001b[0m\u001b[0;34m(\u001b[0m\u001b[0mtorch\u001b[0m\u001b[0;34m.\u001b[0m\u001b[0mfx\u001b[0m\u001b[0;34m.\u001b[0m\u001b[0mInterpreter\u001b[0m\u001b[0;34m)\u001b[0m\u001b[0;34m:\u001b[0m\u001b[0;34m\u001b[0m\u001b[0;34m\u001b[0m\u001b[0m\n\u001b[0m\u001b[1;32m     75\u001b[0m     \"\"\"\n\u001b[1;32m     76\u001b[0m     \u001b[0mExecute\u001b[0m \u001b[0man\u001b[0m \u001b[0mFX\u001b[0m \u001b[0mgraph\u001b[0m \u001b[0mNode\u001b[0m\u001b[0;34m-\u001b[0m\u001b[0mby\u001b[0m\u001b[0;34m-\u001b[0m\u001b[0mNode\u001b[0m \u001b[0;32mand\u001b[0m\u001b[0;34m\u001b[0m\u001b[0;34m\u001b[0m\u001b[0m\n",
            "\u001b[0;31mAttributeError\u001b[0m: partially initialized module 'torch' has no attribute 'fx' (most likely due to a circular import)"
          ]
        }
      ]
    },
    {
      "cell_type": "markdown",
      "source": [
        "We will then initialize the Wikipedia API in English. This will make sure that all the data being pulled from the Wiki database is in English.\n",
        "\n",
        "It is important to note that the function Wikipedia() takes in 2 arguments. The first one is user agent, it is basically a form of ID that is needed to create connections with the Wikipedia DB, and the second is ofcourse the language. We have selected Google_Collab_API as our user agent"
      ],
      "metadata": {
        "id": "nFGthAAsK8QE"
      }
    },
    {
      "cell_type": "code",
      "source": [
        "wiki = wikipediaapi.Wikipedia(\"Google_Collab_API\",\"en\")"
      ],
      "metadata": {
        "id": "oUUFR8CWKoLV"
      },
      "execution_count": null,
      "outputs": []
    },
    {
      "cell_type": "markdown",
      "source": [
        "We will define a function which will get the Wikipedia content. If it finds the page, it will return the text from the page, else it will return none."
      ],
      "metadata": {
        "id": "HzulwVGKMNRU"
      }
    },
    {
      "cell_type": "code",
      "source": [
        "def get_wikipedia_content(title):\n",
        "    \"\"\"\n",
        "    Fetches the text content of a Wikipedia page.\n",
        "\n",
        "    This function takes a Wikipedia page title, checks if the page exists,\n",
        "    and returns its text content. If the page does not exist, it prints\n",
        "    an error message and returns None.\n",
        "\n",
        "    Args:\n",
        "        title (str): The title of the Wikipedia page to retrieve.\n",
        "\n",
        "    Returns:\n",
        "        str or None: The text content of the Wikipedia page if it exists, otherwise None.\n",
        "\n",
        "    Example:\n",
        "        content = get_wikipedia_content(\"Python (programming language)\")\n",
        "        if content:\n",
        "            print(content[:500])  # Prints first 500 characters of the content\n",
        "    \"\"\"\n",
        "    page = wiki.page(title)  #fethes the wikipedia page with given title\n",
        "    if not page.exists():    #page.exists() returns boolean if the page exists or not\n",
        "        print(f\"PAGE '{title}' DOES NOT EXIST!\")\n",
        "        return None\n",
        "    return page.text         #returns the whole text from the page found\n"
      ],
      "metadata": {
        "id": "Ti58Ri37MWn1"
      },
      "execution_count": null,
      "outputs": []
    },
    {
      "cell_type": "markdown",
      "source": [
        "In the snippet below, we have a title variable which will be used to call the get_wikipedia_content function and fetch the page related to that title.\n",
        "\n",
        "The title variable can be changed for other titles."
      ],
      "metadata": {
        "id": "am_ZBH5kR4_G"
      }
    },
    {
      "cell_type": "code",
      "source": [
        "title = \"Artificial Intelligence\"\n",
        "content = get_wikipedia_content(title)\n",
        "\n",
        "if content:\n",
        "  print(f\" Successfully fetched Wikipedia content for '{title}'\")"
      ],
      "metadata": {
        "id": "dPQkyx4rSzGk"
      },
      "execution_count": null,
      "outputs": []
    },
    {
      "cell_type": "markdown",
      "source": [
        "We will now call a pre-trained tokenizer, which basically activates the GPT-2's tokenizer system. We need the tokenizer to convert human language into sequence of numbers that the LLM uses to understand and store information appropriately."
      ],
      "metadata": {
        "id": "OEIajwAdTkFI"
      }
    },
    {
      "cell_type": "code",
      "source": [
        "tokenizer = AutoTokenizer.from_pretrained(\"gpt2\")"
      ],
      "metadata": {
        "id": "piSIMCp8T2JK"
      },
      "execution_count": null,
      "outputs": []
    },
    {
      "cell_type": "markdown",
      "source": [
        "**NOTE: The code from here for this section has been commented to save processing power, in the next section we will be working with tokenization as a function. Please de-comment for your own testing purposes.**\n",
        "\n",
        "\n",
        "We wil now tokenize the text received from the wikipedia, which is stored in variable called content. It will convert the text into PyTorch tensors, will truncate it if the dataset is longer than 1024 tokens, which is the limit of GPT-2 itself. All text will be split into smaller chunks, smaller than 1024.\n",
        "\n",
        "All the tokens created from that page will be stored in the tokens datastructure."
      ],
      "metadata": {
        "id": "1mDtrJvdT36E"
      }
    },
    {
      "cell_type": "code",
      "source": [
        "#if content:\n",
        "    #tokens = tokenizer(content, return_tensors=\"pt\", truncation=True, max_length=1024)\n",
        "    #print(\"Tokenization complete!\")"
      ],
      "metadata": {
        "id": "Z9VSaldpUVTQ"
      },
      "execution_count": null,
      "outputs": []
    },
    {
      "cell_type": "markdown",
      "source": [
        "Next we will display the tokenized output. This will show what the tokens look like. Pretty cool!"
      ],
      "metadata": {
        "id": "DLctkmMTUmoS"
      }
    },
    {
      "cell_type": "code",
      "source": [
        "#print(f\"\\n Tokenized input IDs: \\n'{tokens.input_ids}' \")"
      ],
      "metadata": {
        "id": "XEg1XVe7UtkI"
      },
      "execution_count": null,
      "outputs": []
    },
    {
      "cell_type": "markdown",
      "source": [
        "To test stuff, we will convert the tokens back to the text of wikipedia page."
      ],
      "metadata": {
        "id": "aqERUT_XVODu"
      }
    },
    {
      "cell_type": "code",
      "source": [
        "#decoded_text = tokenizer.decode(tokens.input_ids[0])           #converts tokens back to human language.\n",
        "#print(f\"\\n🔹 Decoded text (sample):\\n{decoded_text[:500]}...\") #prints only the first 500 texts\n"
      ],
      "metadata": {
        "id": "mnfaEzbWVWyd"
      },
      "execution_count": null,
      "outputs": []
    },
    {
      "cell_type": "markdown",
      "source": [
        "# Training the model"
      ],
      "metadata": {
        "id": "Fc4nbjyKb8Ob"
      }
    },
    {
      "cell_type": "markdown",
      "source": [
        "Now we will work on training our model. For that, we will use PyTorch and dataset libraries. The next snippet will tokenize the dataset. It will first convert the Wikipedia text into dataset format, then will proceed to map dataset itself.\n",
        "\n"
      ],
      "metadata": {
        "id": "M-lbIgkecn9b"
      }
    },
    {
      "cell_type": "code",
      "source": [
        "def tokenize_function(examples):\n",
        "  \"\"\"\n",
        "    Tokenizes the input examples into token IDs using the specified tokenizer.\n",
        "\n",
        "    This function takes a dictionary of examples where each example contains a\n",
        "    \"text\" field, and tokenizes the text using the provided tokenizer. The\n",
        "    text is truncated to a maximum length of 1024 tokens if necessary.\n",
        "\n",
        "    Args:\n",
        "        examples (dict): A dictionary containing text data. The \"text\" field in\n",
        "                         the dictionary is expected to contain the input text\n",
        "                         to be tokenized.\n",
        "\n",
        "    Returns:\n",
        "        dict: A dictionary containing the tokenized text with token IDs.\n",
        "              The output is compatible with the input structure of the tokenizer\n",
        "              (e.g., token IDs, attention masks).\n",
        "\n",
        "    Example:\n",
        "        input_examples = {\"text\": \"This is a sample text.\"}\n",
        "        tokenized_output = tokenize_function(input_examples)\n",
        "\n",
        "    Note:\n",
        "        The tokenizer should be defined elsewhere in the code, and this function\n",
        "        assumes that the tokenizer has been properly initialized with the required\n",
        "        settings (e.g., model type, padding, etc.).\n",
        "    \"\"\"\n",
        "  return tokenizer(examples[\"text\"], truncation=True, max_length=1024)\n",
        "\n",
        "dataset = Dataset.from_dict({\"text\" : [content]})   #converts wikipedia text into dataset format\n",
        "tokenized_dataset = dataset.map(tokenize_function, batched=True)  #tokenizes all dataset entries\n"
      ],
      "metadata": {
        "id": "rt2ZAeEregar"
      },
      "execution_count": null,
      "outputs": []
    },
    {
      "cell_type": "markdown",
      "source": [
        "I understand it may look a little overwhelming. Below is dumbed-down description of whats happening\n",
        "\n",
        "Grab text from wikipedia -> Convert the text into \"dataset\" format -> Tokenize the \"dataset\" formatted data."
      ],
      "metadata": {
        "id": "CGJ-4JiZgRcw"
      }
    },
    {
      "cell_type": "markdown",
      "source": [
        "We will next load the GPT-2 model, which will be trained for our Wikipedia text."
      ],
      "metadata": {
        "id": "A0D-cwdIgRTv"
      }
    },
    {
      "cell_type": "code",
      "source": [
        "model_used = AutoModelForCausalLM.from_pretrained(\"gpt2\")\n",
        "\n",
        "print(\"WE HAVE GPT-2 NOW YAY\")"
      ],
      "metadata": {
        "id": "f7B2CoMVhLAD"
      },
      "execution_count": null,
      "outputs": []
    },
    {
      "cell_type": "markdown",
      "source": [
        "Finally, we will now define the training arguments which will basically devise how will the training be done, where should the training data be saved and stuff."
      ],
      "metadata": {
        "id": "JEn6XB8aheXW"
      }
    },
    {
      "cell_type": "code",
      "source": [
        "# Define training settings\n",
        "training_args = TrainingArguments(\n",
        "    output_dir=\"./gpt2_wiki\",       #where the training model is saved\n",
        "    per_device_train_batch_size=2,  #2 samples per training step, nothing too heavy\n",
        "    num_train_epochs=3,             #the LLM will be trained 3 times over the whole provided tokenized dataset\n",
        "    logging_dir=\"./logs\",\n",
        "    save_strategy=\"epoch\"           #after every epoch, the model will be saved with trained data.\n",
        ")\n",
        "\n",
        "print(\"Training arguments set!\")\n"
      ],
      "metadata": {
        "id": "vSqBlMgchw0u"
      },
      "execution_count": null,
      "outputs": []
    },
    {
      "cell_type": "markdown",
      "source": [
        "Now that we have our training arguments set up, we will then train the model."
      ],
      "metadata": {
        "id": "JZ3VRF3ziTGU"
      }
    },
    {
      "cell_type": "code",
      "source": [
        "# Initialize Trainer\n",
        "trainer = Trainer(\n",
        "    model=model_used,   #this will train gpt-2\n",
        "    args=training_args, #the arguments being used\n",
        "    train_dataset=tokenized_dataset #with what data do we train the model\n",
        ")\n",
        "\n",
        "# Start training\n",
        "trainer.train()\n",
        "\n",
        "print(\"Training complete!\")\n"
      ],
      "metadata": {
        "id": "KyssfoAuif1v"
      },
      "execution_count": null,
      "outputs": []
    },
    {
      "cell_type": "markdown",
      "source": [
        "We finally have trained the model, based on our wikipedia article about artificial intelligence systems."
      ],
      "metadata": {
        "id": "Qz9C9tgHizxW"
      }
    },
    {
      "cell_type": "markdown",
      "source": [
        "# Testing for \"Artificial Intelligence\" article"
      ],
      "metadata": {
        "id": "0fQi0o5TjNMT"
      }
    },
    {
      "cell_type": "markdown",
      "source": [
        "Now that we have trained our GPT-2 model with the \"Artificial Intelligence\" article, saved in the variable in the first section, we can test it out by giving it an input, and GPT-2 will guess the next 100 words\n"
      ],
      "metadata": {
        "id": "8REHBnP6jWXh"
      }
    },
    {
      "cell_type": "code",
      "source": [
        "input_text = \"The future of artificial intelligence is\"    #half prompt given to our trained GPT-2 model\n",
        "\n",
        "input_ids = tokenizer(input_text, return_tensors=\"pt\").input_ids #converting the input text into a tokens, that GPT 2 will understand\n",
        "\n",
        "output = model.generate(input_ids, max_length = 100) #the max length of the output being generated by our GPT 2\n",
        "\n",
        "print(\"Generated text \\n\", tokenizer.decode(output[0])) #the output being given by GPT 2"
      ],
      "metadata": {
        "id": "5HsX3lfWj7ah"
      },
      "execution_count": null,
      "outputs": []
    }
  ]
}